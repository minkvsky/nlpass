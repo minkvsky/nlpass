{
 "cells": [
  {
   "cell_type": "code",
   "execution_count": 1,
   "metadata": {
    "collapsed": true
   },
   "outputs": [],
   "source": [
    "DATA_PATH = 'data/'\n",
    "OUTPUT_PATH = 'output/'"
   ]
  },
  {
   "cell_type": "code",
   "execution_count": 3,
   "metadata": {
    "collapsed": true
   },
   "outputs": [],
   "source": [
    "import time"
   ]
  },
  {
   "cell_type": "code",
   "execution_count": 4,
   "metadata": {
    "collapsed": false
   },
   "outputs": [],
   "source": [
    "# start timer\n",
    "time.clock()\n",
    "\n",
    "# open Brown training data\n",
    "infile = open(DATA_PATH + \"Brown_tagged_train.txt\", \"r\")\n",
    "brown_train = infile.readlines()\n",
    "infile.close()"
   ]
  },
  {
   "cell_type": "code",
   "execution_count": 5,
   "metadata": {
    "collapsed": false
   },
   "outputs": [
    {
     "data": {
      "text/plain": [
       "27491"
      ]
     },
     "execution_count": 5,
     "metadata": {},
     "output_type": "execute_result"
    }
   ],
   "source": [
    "len(brown_train)"
   ]
  },
  {
   "cell_type": "code",
   "execution_count": 6,
   "metadata": {
    "collapsed": false
   },
   "outputs": [
    {
     "data": {
      "text/plain": [
       "'At/ADP that/DET time/NOUN highway/NOUN engineers/NOUN traveled/VERB rough/ADJ and/CONJ dirty/ADJ roads/NOUN to/PRT accomplish/VERB their/DET duties/NOUN ./. \\r\\n'"
      ]
     },
     "execution_count": 6,
     "metadata": {},
     "output_type": "execute_result"
    }
   ],
   "source": [
    "brown_train[0]"
   ]
  },
  {
   "cell_type": "code",
   "execution_count": null,
   "metadata": {
    "collapsed": true
   },
   "outputs": [],
   "source": [
    "# split words and tags, and add start and stop symbols (question 1)\n",
    "brown_words, brown_tags = split_wordtags(brown_train)\n",
    "\n",
    "# calculate tag trigram probabilities (question 2)\n",
    "q_values = calc_trigrams(brown_tags)\n",
    "\n",
    "# question 2 output\n",
    "q2_output(q_values, OUTPUT_PATH + 'B2.txt')\n",
    "\n",
    "# calculate list of words with count > 5 (question 3)\n",
    "known_words = calc_known(brown_words)\n",
    "\n",
    "# get a version of brown_words with rare words replace with '_RARE_' (question 3)\n",
    "brown_words_rare = replace_rare(brown_words, known_words)\n",
    "\n",
    "# question 3 output\n",
    "q3_output(brown_words_rare, OUTPUT_PATH + \"B3.txt\")\n",
    "\n",
    "# calculate emission probabilities (question 4)\n",
    "e_values, taglist = calc_emission(brown_words_rare, brown_tags)\n",
    "\n",
    "# question 4 output\n",
    "q4_output(e_values, OUTPUT_PATH + \"B4.txt\")\n",
    "\n",
    "# delete unneceessary data\n",
    "del brown_train\n",
    "del brown_words_rare\n",
    "\n",
    "# open Brown development data (question 5)\n",
    "infile = open(DATA_PATH + \"Brown_dev.txt\", \"r\")\n",
    "brown_dev = infile.readlines()\n",
    "infile.close()\n",
    "\n",
    "# format Brown development data here\n",
    "brown_dev_words = []\n",
    "for sentence in brown_dev:\n",
    "    brown_dev_words.append(sentence.split(\" \")[:-1])\n",
    "\n",
    "# do viterbi on brown_dev_words (question 5)\n",
    "viterbi_tagged = viterbi(brown_dev_words, taglist, known_words, q_values, e_values)\n",
    "\n",
    "# question 5 output\n",
    "q5_output(viterbi_tagged, OUTPUT_PATH + 'B5.txt')\n",
    "\n",
    "# do nltk tagging here\n",
    "nltk_tagged = nltk_tagger(brown_words, brown_tags, brown_dev_words)\n",
    "\n",
    "# question 6 output\n",
    "q6_output(nltk_tagged, OUTPUT_PATH + 'B6.txt')\n",
    "\n",
    "# print total time to run Part B\n",
    "print \"Part B time: \" + str(time.clock()) + ' sec'"
   ]
  }
 ],
 "metadata": {
  "kernelspec": {
   "display_name": "Python 2",
   "language": "python",
   "name": "python2"
  },
  "language_info": {
   "codemirror_mode": {
    "name": "ipython",
    "version": 2
   },
   "file_extension": ".py",
   "mimetype": "text/x-python",
   "name": "python",
   "nbconvert_exporter": "python",
   "pygments_lexer": "ipython2",
   "version": "2.7.13"
  }
 },
 "nbformat": 4,
 "nbformat_minor": 2
}
