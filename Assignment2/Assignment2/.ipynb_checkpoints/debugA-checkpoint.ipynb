{
 "cells": [
  {
   "cell_type": "code",
   "execution_count": 1,
   "metadata": {
    "collapsed": true
   },
   "outputs": [],
   "source": [
    "import math\n",
    "import nltk\n",
    "import time\n",
    "\n",
    "# Constants to be used by you when you fill the functions\n",
    "START_SYMBOL = '*'\n",
    "STOP_SYMBOL = 'STOP'\n",
    "MINUS_INFINITY_SENTENCE_LOG_PROB = -1000\n",
    "\n",
    "# TODO: IMPLEMENT THIS FUNCTION\n",
    "# Calculates unigram, bigram, and trigram probabilities given a training corpus\n",
    "# training_corpus: is a list of the sentences. Each sentence is a string with tokens separated by spaces, ending in a newline character.\n",
    "# This function outputs three python dictionaries, where the keys are tuples expressing the ngram and the value is the log probability of that ngram\n",
    "\n",
    "def calc_probabilities(training_corpus):\n",
    "    unigram_p = {}\n",
    "    bigram_p = {}\n",
    "    trigram_p = {}\n",
    "\n",
    "    def mylog(item, tuples):\n",
    "        if tuples.count(item) == 0:\n",
    "            return MINUS_INFINITY_SENTENCE_LOG_PROB\n",
    "        else:\n",
    "            return math.log(float(tuples.count(item)) / len(tuples),\n",
    "                            2)\n",
    "\n",
    "    unigram_tuples = []\n",
    "    for s in training_corpus:\n",
    "        tokens = nltk.word_tokenize(s)\n",
    "        unigram_tuples.extend(list(nltk.bigrams(tokens)))\n",
    "    unigram_p = {item: mylog(item, unigram_tuples)\n",
    "                 for item in set(unigram_tuples)}\n",
    "\n",
    "    bigram_tuples = []\n",
    "    for s in training_corpus:\n",
    "        tokens = nltk.word_tokenize(s)\n",
    "        bigram_tuples.extend(list(nltk.bigrams(tokens)))\n",
    "    bigram_p = {item: mylog(item, bigram_tuples)\n",
    "                for item in set(bigram_tuples)}\n",
    "\n",
    "    trigram_tuples = []\n",
    "    for s in training_corpus:\n",
    "        tokens = nltk.word_tokenize(s)\n",
    "        trigram_tuples.extend(list(nltk.bigrams(tokens)))\n",
    "    trigram_p = {item: mylog(item, trigram_tuples)\n",
    "                 for item in set(trigram_tuples)}\n",
    "\n",
    "    return unigram_p, bigram_p, trigram_p\n",
    "# Prints the output for q1\n",
    "# Each input is a python dictionary where keys are a tuple expressing the ngram, and the value is the log probability of that ngram\n",
    "def q1_output(unigrams, bigrams, trigrams, filename):\n",
    "    # output probabilities\n",
    "    outfile = open(filename, 'w')\n",
    "\n",
    "    unigrams_keys = unigrams.keys()\n",
    "    unigrams_keys.sort()\n",
    "    for unigram in unigrams_keys:\n",
    "        outfile.write('UNIGRAM ' + unigram[0] + ' ' + str(unigrams[unigram]) + '\\n')\n",
    "\n",
    "    bigrams_keys = bigrams.keys()\n",
    "    bigrams_keys.sort()\n",
    "    for bigram in bigrams_keys:\n",
    "        outfile.write('BIGRAM ' + bigram[0] + ' ' + bigram[1]  + ' ' + str(bigrams[bigram]) + '\\n')\n",
    "\n",
    "    trigrams_keys = trigrams.keys()\n",
    "    trigrams_keys.sort()\n",
    "    for trigram in trigrams_keys:\n",
    "        outfile.write('TRIGRAM ' + trigram[0] + ' ' + trigram[1] + ' ' + trigram[2] + ' ' + str(trigrams[trigram]) + '\\n')\n",
    "\n",
    "    outfile.close()\n",
    "\n",
    "\n",
    "# TODO: IMPLEMENT THIS FUNCTION\n",
    "# Calculates scores (log probabilities) for every sentence\n",
    "# ngram_p: python dictionary of probabilities of uni-, bi- and trigrams.\n",
    "# n: size of the ngram you want to use to compute probabilities\n",
    "## size of ngram_p??\n",
    "# corpus: list of sentences to score. Each sentence is a string with tokens separated by spaces, ending in a newline character.\n",
    "# This function must return a python list of scores, where the first element is the score of the first sentence, etc.\n",
    "def score_one(ngram_p,n,s):\n",
    "    sco=0\n",
    "    for i in range(len(s)):\n",
    "        if i+n <= len(s):\n",
    "            print(s[i:i+n])\n",
    "        sco += ngram_p[s[i:i+n]]\n",
    "    return sco\n",
    "\n",
    "def score(ngram_p,n,corpus):\n",
    "    scores = []\n",
    "    for s in corpus:\n",
    "        scores.append(score_one(ngram_p,n,s))\n",
    "    return scores\n",
    "\n",
    "# Outputs a score to a file\n",
    "# scores: list of scores\n",
    "# filename: is the output file name\n",
    "def score_output(scores, filename):\n",
    "    outfile = open(filename, 'w')\n",
    "    for score in scores:\n",
    "        outfile.write(str(score) + '\\n')\n",
    "    outfile.close()\n",
    "\n",
    "# TODO: IMPLEMENT THIS FUNCTION\n",
    "# Calculates scores (log probabilities) for every sentence with a linearly interpolated model\n",
    "# Each ngram argument is a python dictionary where the keys are tuples that express an ngram and the value is the log probability of that ngram\n",
    "# Like score(), this function returns a python list of scores\n",
    "def linearscore(unigrams, bigrams, trigrams, corpus):\n",
    "    uniscores = score(unigrams, 1, corpus)\n",
    "    biscores = score(bigrams, 2, corpus)\n",
    "    triscores = score(trigrams, 3, corpus)\n",
    "\n",
    "    scores = []\n",
    "    for _,s in zip(uniscores,biscores,triscores):\n",
    "        scores.append(sum(list(s))/3.0)\n",
    "    return scores"
   ]
  },
  {
   "cell_type": "code",
   "execution_count": 2,
   "metadata": {
    "collapsed": true
   },
   "outputs": [],
   "source": [
    "DATA_PATH = 'data/'\n",
    "OUTPUT_PATH = 'output/'"
   ]
  },
  {
   "cell_type": "code",
   "execution_count": 3,
   "metadata": {
    "collapsed": true
   },
   "outputs": [],
   "source": [
    "# DO NOT MODIFY THE MAIN FUNCTION\n",
    "\n",
    "# start timer\n",
    "time.clock()\n",
    "\n",
    "# get data\n",
    "infile = open(DATA_PATH + 'Brown_train.txt', 'r')\n",
    "corpus = infile.readlines()\n",
    "infile.close()"
   ]
  },
  {
   "cell_type": "code",
   "execution_count": 4,
   "metadata": {
    "collapsed": true
   },
   "outputs": [],
   "source": [
    "s = corpus[0]"
   ]
  },
  {
   "cell_type": "code",
   "execution_count": 5,
   "metadata": {
    "collapsed": false
   },
   "outputs": [
    {
     "data": {
      "text/plain": [
       "'At that time highway engineers traveled rough and dirty roads to accomplish their duties . \\r\\n'"
      ]
     },
     "execution_count": 5,
     "metadata": {},
     "output_type": "execute_result"
    }
   ],
   "source": [
    "s"
   ]
  },
  {
   "cell_type": "code",
   "execution_count": 6,
   "metadata": {
    "collapsed": true
   },
   "outputs": [],
   "source": [
    "tokens = nltk.word_tokenize(s)"
   ]
  },
  {
   "cell_type": "code",
   "execution_count": 10,
   "metadata": {
    "collapsed": true
   },
   "outputs": [],
   "source": [
    "def mylog(item, tuples):\n",
    "        if tuples.count(item) == 0:\n",
    "            return MINUS_INFINITY_SENTENCE_LOG_PROB\n",
    "        else:\n",
    "            return math.log(float(tuples.count(item)) / len(tuples),\n",
    "                            2)\n"
   ]
  },
  {
   "cell_type": "code",
   "execution_count": 16,
   "metadata": {
    "collapsed": true
   },
   "outputs": [],
   "source": [
    "import time"
   ]
  },
  {
   "cell_type": "code",
   "execution_count": 22,
   "metadata": {
    "collapsed": false
   },
   "outputs": [
    {
     "data": {
      "text/plain": [
       "2"
      ]
     },
     "execution_count": 22,
     "metadata": {},
     "output_type": "execute_result"
    }
   ],
   "source": [
    "8/3"
   ]
  },
  {
   "cell_type": "code",
   "execution_count": 24,
   "metadata": {
    "collapsed": false
   },
   "outputs": [
    {
     "data": {
      "text/plain": [
       "2"
      ]
     },
     "execution_count": 24,
     "metadata": {},
     "output_type": "execute_result"
    }
   ],
   "source": [
    "8"
   ]
  },
  {
   "cell_type": "code",
   "execution_count": 34,
   "metadata": {
    "collapsed": false
   },
   "outputs": [
    {
     "name": "stdout",
     "output_type": "stream",
     "text": [
      "0\n",
      "1000\n",
      "2000\n",
      "3000\n",
      "4000\n",
      "5000\n",
      "6000\n",
      "7000\n",
      "8000\n",
      "9000\n",
      "10000\n",
      "11000\n",
      "12000\n",
      "13000\n",
      "14000\n",
      "15000\n",
      "16000\n",
      "17000\n",
      "18000\n",
      "19000\n",
      "20000\n",
      "21000\n",
      "22000\n",
      "23000\n",
      "24000\n",
      "25000\n",
      "26000\n",
      "27000\n",
      "28000\n",
      "29000\n",
      "30000\n",
      "31000\n",
      "32000\n"
     ]
    },
    {
     "ename": "KeyboardInterrupt",
     "evalue": "",
     "output_type": "error",
     "traceback": [
      "\u001b[0;31m---------------------------------------------------------------------------\u001b[0m",
      "\u001b[0;31mKeyboardInterrupt\u001b[0m                         Traceback (most recent call last)",
      "\u001b[0;32m<ipython-input-34-2c765fd11ad2>\u001b[0m in \u001b[0;36m<module>\u001b[0;34m()\u001b[0m\n\u001b[1;32m      8\u001b[0m \u001b[0;34m\u001b[0m\u001b[0m\n\u001b[1;32m      9\u001b[0m unigram_p = {item: mylog(item, unigram_tuples)\n\u001b[0;32m---> 10\u001b[0;31m              for item in set(unigram_tuples)}\n\u001b[0m\u001b[1;32m     11\u001b[0m \u001b[0mend\u001b[0m \u001b[0;34m=\u001b[0m \u001b[0mtime\u001b[0m\u001b[0;34m.\u001b[0m\u001b[0mtime\u001b[0m\u001b[0;34m(\u001b[0m\u001b[0;34m)\u001b[0m\u001b[0;34m\u001b[0m\u001b[0m\n\u001b[1;32m     12\u001b[0m \u001b[0;34m\u001b[0m\u001b[0m\n",
      "\u001b[0;32m<ipython-input-34-2c765fd11ad2>\u001b[0m in \u001b[0;36m<dictcomp>\u001b[0;34m((item,))\u001b[0m\n\u001b[1;32m      8\u001b[0m \u001b[0;34m\u001b[0m\u001b[0m\n\u001b[1;32m      9\u001b[0m unigram_p = {item: mylog(item, unigram_tuples)\n\u001b[0;32m---> 10\u001b[0;31m              for item in set(unigram_tuples)}\n\u001b[0m\u001b[1;32m     11\u001b[0m \u001b[0mend\u001b[0m \u001b[0;34m=\u001b[0m \u001b[0mtime\u001b[0m\u001b[0;34m.\u001b[0m\u001b[0mtime\u001b[0m\u001b[0;34m(\u001b[0m\u001b[0;34m)\u001b[0m\u001b[0;34m\u001b[0m\u001b[0m\n\u001b[1;32m     12\u001b[0m \u001b[0;34m\u001b[0m\u001b[0m\n",
      "\u001b[0;32m<ipython-input-10-8e154058144d>\u001b[0m in \u001b[0;36mmylog\u001b[0;34m(item, tuples)\u001b[0m\n\u001b[1;32m      1\u001b[0m \u001b[0;32mdef\u001b[0m \u001b[0mmylog\u001b[0m\u001b[0;34m(\u001b[0m\u001b[0mitem\u001b[0m\u001b[0;34m,\u001b[0m \u001b[0mtuples\u001b[0m\u001b[0;34m)\u001b[0m\u001b[0;34m:\u001b[0m\u001b[0;34m\u001b[0m\u001b[0m\n\u001b[0;32m----> 2\u001b[0;31m         \u001b[0;32mif\u001b[0m \u001b[0mtuples\u001b[0m\u001b[0;34m.\u001b[0m\u001b[0mcount\u001b[0m\u001b[0;34m(\u001b[0m\u001b[0mitem\u001b[0m\u001b[0;34m)\u001b[0m \u001b[0;34m==\u001b[0m \u001b[0;36m0\u001b[0m\u001b[0;34m:\u001b[0m\u001b[0;34m\u001b[0m\u001b[0m\n\u001b[0m\u001b[1;32m      3\u001b[0m             \u001b[0;32mreturn\u001b[0m \u001b[0mMINUS_INFINITY_SENTENCE_LOG_PROB\u001b[0m\u001b[0;34m\u001b[0m\u001b[0m\n\u001b[1;32m      4\u001b[0m         \u001b[0;32melse\u001b[0m\u001b[0;34m:\u001b[0m\u001b[0;34m\u001b[0m\u001b[0m\n\u001b[1;32m      5\u001b[0m             return math.log(float(tuples.count(item)) / len(tuples),\n",
      "\u001b[0;31mKeyboardInterrupt\u001b[0m: "
     ]
    }
   ],
   "source": [
    "start = time.time()\n",
    "unigram_tuples = []\n",
    "for i,s in enumerate(corpus):\n",
    "    tokens = nltk.word_tokenize(s)\n",
    "    if i % 1000 == 0:\n",
    "        print(i)\n",
    "    unigram_tuples.extend(list(nltk.bigrams(tokens)))\n",
    "\n",
    "unigram_p = {item: mylog(item, unigram_tuples)\n",
    "             for item in set(unigram_tuples)}\n",
    "end = time.time()\n",
    "\n",
    "end - start"
   ]
  },
  {
   "cell_type": "code",
   "execution_count": null,
   "metadata": {
    "collapsed": true
   },
   "outputs": [],
   "source": []
  },
  {
   "cell_type": "code",
   "execution_count": 14,
   "metadata": {
    "collapsed": false
   },
   "outputs": [
    {
     "data": {
      "text/plain": [
       "32491"
      ]
     },
     "execution_count": 14,
     "metadata": {},
     "output_type": "execute_result"
    }
   ],
   "source": [
    "len(corpus)"
   ]
  },
  {
   "cell_type": "code",
   "execution_count": null,
   "metadata": {
    "collapsed": true
   },
   "outputs": [],
   "source": [
    "# calculate ngram probabilities (question 1)\n",
    "unigrams, bigrams, trigrams = calc_probabilities(corpus)\n",
    "\n",
    "# question 1 output\n",
    "q1_output(unigrams, bigrams, trigrams, OUTPUT_PATH + 'A1.txt')\n",
    "\n",
    "# score sentences (question 2)\n",
    "uniscores = score(unigrams, 1, corpus)\n",
    "biscores = score(bigrams, 2, corpus)\n",
    "triscores = score(trigrams, 3, corpus)\n",
    "\n",
    "# question 2 output\n",
    "score_output(uniscores, OUTPUT_PATH + 'A2.uni.txt')\n",
    "score_output(biscores, OUTPUT_PATH + 'A2.bi.txt')\n",
    "score_output(triscores, OUTPUT_PATH + 'A2.tri.txt')\n",
    "\n",
    "# linear interpolation (question 3)\n",
    "linearscores = linearscore(unigrams, bigrams, trigrams, corpus)\n",
    "\n",
    "# question 3 output\n",
    "score_output(linearscores, OUTPUT_PATH + 'A3.txt')\n",
    "\n",
    "# open Sample1 and Sample2 (question 5)\n",
    "infile = open(DATA_PATH + 'Sample1.txt', 'r')\n",
    "sample1 = infile.readlines()\n",
    "infile.close()\n",
    "infile = open(DATA_PATH + 'Sample2.txt', 'r')\n",
    "sample2 = infile.readlines()\n",
    "infile.close()\n",
    "\n",
    "# score the samples\n",
    "sample1scores = linearscore(unigrams, bigrams, trigrams, sample1)\n",
    "sample2scores = linearscore(unigrams, bigrams, trigrams, sample2)\n",
    "\n",
    "# question 5 output\n",
    "score_output(sample1scores, OUTPUT_PATH + 'Sample1_scored.txt')\n",
    "score_output(sample2scores, OUTPUT_PATH + 'Sample2_scored.txt')\n",
    "\n",
    "# print total time to run Part A\n",
    "print \"Part A time: \" + str(time.clock()) + ' sec'"
   ]
  }
 ],
 "metadata": {
  "kernelspec": {
   "display_name": "Python 2",
   "language": "python",
   "name": "python2"
  },
  "language_info": {
   "codemirror_mode": {
    "name": "ipython",
    "version": 2
   },
   "file_extension": ".py",
   "mimetype": "text/x-python",
   "name": "python",
   "nbconvert_exporter": "python",
   "pygments_lexer": "ipython2",
   "version": "2.7.13"
  }
 },
 "nbformat": 4,
 "nbformat_minor": 2
}
