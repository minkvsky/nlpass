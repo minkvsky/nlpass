{
 "cells": [
  {
   "cell_type": "code",
   "execution_count": 1,
   "metadata": {
    "collapsed": true
   },
   "outputs": [],
   "source": [
    "import math\n",
    "import nltk\n",
    "import time\n",
    "\n",
    "# Constants to be used by you when you fill the functions\n",
    "START_SYMBOL = '*'\n",
    "STOP_SYMBOL = 'STOP'\n",
    "MINUS_INFINITY_SENTENCE_LOG_PROB = -1000"
   ]
  },
  {
   "cell_type": "code",
   "execution_count": 32,
   "metadata": {
    "collapsed": true
   },
   "outputs": [],
   "source": [
    "# TODO: IMPLEMENT THIS FUNCTION\n",
    "# Calculates unigram, bigram, and trigram probabilities given a training corpus\n",
    "# training_corpus: is a list of the sentences. Each sentence is a string with tokens separated by spaces, ending in a newline character.\n",
    "# This function outputs three python dictionaries, where the keys are tuples expressing the ngram and the value is the log probability of that ngram\n",
    "\n",
    "def calc_probabilities(training_corpus):\n",
    "    unigram_p = {}\n",
    "    bigram_p = {}\n",
    "    trigram_p = {}\n",
    "\n",
    "    def mylog(item, tuples):\n",
    "        if tuples.count(item) == 0:\n",
    "            return MINUS_INFINITY_SENTENCE_LOG_PROB\n",
    "        else:\n",
    "            return math.log(float(tuples.count(item)) / len(tuples),\n",
    "                            2)\n",
    "\n",
    "    unigram_tuples = []\n",
    "    for s in training_corpus:\n",
    "        tokens = nltk.word_tokenize(s)\n",
    "        tokens.insert(0,START_SYMBOL)\n",
    "        tokens.append(STOP_SYMBOL)\n",
    "        unigram_tuples.extend(tokens)\n",
    "    unigram_p = {item: mylog(item, unigram_tuples)\n",
    "                 for item in set(unigram_tuples)}\n",
    "\n",
    "    bigram_tuples = []\n",
    "    for s in training_corpus:\n",
    "        tokens = nltk.word_tokenize(s)\n",
    "        tokens.insert(0,START_SYMBOL)\n",
    "        tokens.append(STOP_SYMBOL)\n",
    "        bigram_tuples.extend(list(nltk.bigrams(tokens)))\n",
    "    bigram_p = {item: mylog(item, bigram_tuples)\n",
    "                for item in set(bigram_tuples)}\n",
    "\n",
    "    trigram_tuples = []\n",
    "    for s in training_corpus:\n",
    "        tokens = nltk.word_tokenize(s)\n",
    "        tokens.insert(0,START_SYMBOL)\n",
    "        tokens.append(STOP_SYMBOL)\n",
    "        trigram_tuples.extend(list(nltk.trigrams(tokens)))\n",
    "    trigram_p = {item: mylog(item, trigram_tuples)\n",
    "                 for item in set(trigram_tuples)}\n",
    "\n",
    "    return unigram_p, bigram_p, trigram_p"
   ]
  },
  {
   "cell_type": "code",
   "execution_count": null,
   "metadata": {
    "collapsed": true
   },
   "outputs": [],
   "source": [
    "# Prints the output for q1\n",
    "# Each input is a python dictionary where keys are a tuple expressing the ngram, and the value is the log probability of that ngram\n",
    "def q1_output(unigrams, bigrams, trigrams, filename):\n",
    "    # output probabilities\n",
    "    outfile = open(filename, 'w')\n",
    "\n",
    "    unigrams_keys = unigrams.keys()\n",
    "    unigrams_keys.sort()\n",
    "    for unigram in unigrams_keys:\n",
    "        outfile.write('UNIGRAM ' + unigram[0] + ' ' + str(unigrams[unigram]) + '\\n')\n",
    "\n",
    "    bigrams_keys = bigrams.keys()\n",
    "    bigrams_keys.sort()\n",
    "    for bigram in bigrams_keys:\n",
    "        outfile.write('BIGRAM ' + bigram[0] + ' ' + bigram[1]  + ' ' + str(bigrams[bigram]) + '\\n')\n",
    "\n",
    "    trigrams_keys = trigrams.keys()\n",
    "    trigrams_keys.sort()\n",
    "    for trigram in trigrams_keys:\n",
    "        outfile.write('TRIGRAM ' + trigram[0] + ' ' + trigram[1] + ' ' + trigram[2] + ' ' + str(trigrams[trigram]) + '\\n')\n",
    "\n",
    "    outfile.close()"
   ]
  },
  {
   "cell_type": "code",
   "execution_count": 91,
   "metadata": {
    "collapsed": false
   },
   "outputs": [],
   "source": [
    "# TODO: IMPLEMENT THIS FUNCTION\n",
    "# Calculates scores (log probabilities) for every sentence\n",
    "# ngram_p: python dictionary of probabilities of uni-, bi- and trigrams.\n",
    "# n: size of the ngram you want to use to compute probabilities\n",
    "## size of ngram_p??\n",
    "# corpus: list of sentences to score. Each sentence is a string with tokens separated by spaces, ending in a newline character.\n",
    "# This function must return a python list of scores, where the first element is the score of the first sentence, etc.\n",
    "def score_one(ngram_p,n,s):\n",
    "    sco = 0\n",
    "    ss = s.split()\n",
    "    try:\n",
    "        for i in range(len(ss)):\n",
    "            if i+n <= len(ss):\n",
    "                if n >1:\n",
    "                    sco += ngram_p[tuple(ss[i:i+n])]\n",
    "                else:\n",
    "                    sco += ngram_p[ss[i:i+n][0]]\n",
    "    except:\n",
    "        sco = MINUS_INFINITY_SENTENCE_LOG_PROB\n",
    "    return sco\n",
    "\n",
    "def score(ngram_p,n,corpus):\n",
    "    scores = []\n",
    "    for s in corpus:\n",
    "        scores.append(score_one(ngram_p,n,s))\n",
    "    return scores"
   ]
  },
  {
   "cell_type": "code",
   "execution_count": 85,
   "metadata": {
    "collapsed": true,
    "deletable": true,
    "editable": true
   },
   "outputs": [],
   "source": [
    "# Outputs a score to a file\n",
    "# scores: list of scores\n",
    "# filename: is the output file name\n",
    "def score_output(scores, filename):\n",
    "    outfile = open(filename, 'w')\n",
    "    for score in scores:\n",
    "        outfile.write(str(score) + '\\n')\n",
    "    outfile.close()\n",
    "\n",
    "# TODO: IMPLEMENT THIS FUNCTION\n",
    "# Calculates scores (log probabilities) for every sentence with a linearly interpolated model\n",
    "# Each ngram argument is a python dictionary where the keys are tuples that express an ngram and the value is the log probability of that ngram\n",
    "# Like score(), this function returns a python list of scores\n",
    "def linearscore(unigrams, bigrams, trigrams, corpus):\n",
    "    uniscores = score(unigrams, 1, corpus)\n",
    "    biscores = score(bigrams, 2, corpus)\n",
    "    triscores = score(trigrams, 3, corpus)\n",
    "\n",
    "    scores = []\n",
    "    for s in zip(uniscores,biscores,triscores):\n",
    "        scores.append(sum(list(s))/3.0)\n",
    "    return scores"
   ]
  },
  {
   "cell_type": "code",
   "execution_count": 39,
   "metadata": {
    "collapsed": true,
    "deletable": true,
    "editable": true
   },
   "outputs": [],
   "source": [
    "DATA_PATH = 'data/'\n",
    "OUTPUT_PATH = 'output/'"
   ]
  },
  {
   "cell_type": "code",
   "execution_count": 5,
   "metadata": {
    "collapsed": true,
    "deletable": true,
    "editable": true
   },
   "outputs": [],
   "source": [
    "# DO NOT MODIFY THE MAIN FUNCTION\n",
    "\n",
    "# start timer\n",
    "time.clock()\n",
    "\n",
    "# get data\n",
    "infile = open(DATA_PATH + 'Brown_train.txt', 'r')\n",
    "corpus = infile.readlines()[:10]\n",
    "infile.close()"
   ]
  },
  {
   "cell_type": "code",
   "execution_count": 7,
   "metadata": {
    "collapsed": true,
    "deletable": true,
    "editable": true
   },
   "outputs": [],
   "source": [
    "s = corpus[0]"
   ]
  },
  {
   "cell_type": "code",
   "execution_count": 9,
   "metadata": {
    "collapsed": false,
    "deletable": true,
    "editable": true,
    "scrolled": true
   },
   "outputs": [
    {
     "data": {
      "text/plain": [
       "'At that time highway engineers traveled rough and dirty roads to accomplish their duties . \\n'"
      ]
     },
     "execution_count": 9,
     "metadata": {},
     "output_type": "execute_result"
    }
   ],
   "source": [
    "s"
   ]
  },
  {
   "cell_type": "code",
   "execution_count": 10,
   "metadata": {
    "collapsed": true,
    "deletable": true,
    "editable": true
   },
   "outputs": [],
   "source": [
    "tokens = nltk.word_tokenize(s)"
   ]
  },
  {
   "cell_type": "code",
   "execution_count": 19,
   "metadata": {
    "collapsed": true,
    "deletable": true,
    "editable": true
   },
   "outputs": [],
   "source": [
    "import time"
   ]
  },
  {
   "cell_type": "code",
   "execution_count": 33,
   "metadata": {
    "collapsed": true
   },
   "outputs": [],
   "source": [
    "# calculate ngram probabilities (question 1)\n",
    "unigrams, bigrams, trigrams = calc_probabilities(corpus)"
   ]
  },
  {
   "cell_type": "code",
   "execution_count": 40,
   "metadata": {
    "collapsed": false
   },
   "outputs": [],
   "source": [
    "# question 1 output\n",
    "q1_output(unigrams, bigrams, trigrams, OUTPUT_PATH + 'A1.txt')"
   ]
  },
  {
   "cell_type": "code",
   "execution_count": 67,
   "metadata": {
    "collapsed": true
   },
   "outputs": [],
   "source": [
    "n = 1\n",
    "ngram_p = unigrams"
   ]
  },
  {
   "cell_type": "code",
   "execution_count": 72,
   "metadata": {
    "collapsed": false
   },
   "outputs": [],
   "source": [
    "sco=0\n",
    "ss = s.split()\n",
    "for i in range(len(ss)):\n",
    "    if i+n <= len(ss):\n",
    "        if n >1:\n",
    "            sco += ngram_p[tuple(ss[i:i+n])]\n",
    "        else:\n",
    "            sco += ngram_p[ss[i:i+n][0]]"
   ]
  },
  {
   "cell_type": "code",
   "execution_count": 71,
   "metadata": {
    "collapsed": false
   },
   "outputs": [
    {
     "data": {
      "text/plain": [
       "['Whether']"
      ]
     },
     "execution_count": 71,
     "metadata": {},
     "output_type": "execute_result"
    }
   ],
   "source": [
    "ss[i:i+n]"
   ]
  },
  {
   "cell_type": "code",
   "execution_count": 76,
   "metadata": {
    "collapsed": false
   },
   "outputs": [],
   "source": [
    "# score sentences (question 2)\n",
    "uniscores = score(unigrams, 1, corpus)"
   ]
  },
  {
   "cell_type": "code",
   "execution_count": 78,
   "metadata": {
    "collapsed": false,
    "scrolled": true
   },
   "outputs": [],
   "source": [
    "biscores = score(bigrams, 2, corpus)\n",
    "triscores = score(trigrams, 3, corpus)"
   ]
  },
  {
   "cell_type": "code",
   "execution_count": 83,
   "metadata": {
    "collapsed": true
   },
   "outputs": [],
   "source": [
    "# question 2 output\n",
    "score_output(uniscores, OUTPUT_PATH + 'A2.uni.txt')\n",
    "score_output(biscores, OUTPUT_PATH + 'A2.bi.txt')\n",
    "score_output(triscores, OUTPUT_PATH + 'A2.tri.txt')"
   ]
  },
  {
   "cell_type": "code",
   "execution_count": 92,
   "metadata": {
    "collapsed": false
   },
   "outputs": [],
   "source": [
    "# linear interpolation (question 3)\n",
    "linearscores = linearscore(unigrams, bigrams, trigrams, corpus)"
   ]
  },
  {
   "cell_type": "code",
   "execution_count": 88,
   "metadata": {
    "collapsed": true
   },
   "outputs": [],
   "source": [
    "# question 3 output\n",
    "score_output(linearscores, OUTPUT_PATH + 'A3.txt')"
   ]
  },
  {
   "cell_type": "code",
   "execution_count": 89,
   "metadata": {
    "collapsed": true
   },
   "outputs": [],
   "source": [
    "# open Sample1 and Sample2 (question 5)\n",
    "infile = open(DATA_PATH + 'Sample1.txt', 'r')\n",
    "sample1 = infile.readlines()\n",
    "infile.close()\n",
    "infile = open(DATA_PATH + 'Sample2.txt', 'r')\n",
    "sample2 = infile.readlines()\n",
    "infile.close()"
   ]
  },
  {
   "cell_type": "code",
   "execution_count": 93,
   "metadata": {
    "collapsed": false
   },
   "outputs": [],
   "source": [
    "# score the samples\n",
    "sample1scores = linearscore(unigrams, bigrams, trigrams, sample1)\n",
    "sample2scores = linearscore(unigrams, bigrams, trigrams, sample2)"
   ]
  },
  {
   "cell_type": "code",
   "execution_count": null,
   "metadata": {
    "collapsed": true,
    "deletable": true,
    "editable": true
   },
   "outputs": [],
   "source": [
    "# question 5 output\n",
    "score_output(sample1scores, OUTPUT_PATH + 'Sample1_scored.txt')\n",
    "score_output(sample2scores, OUTPUT_PATH + 'Sample2_scored.txt')\n",
    "\n",
    "# print total time to run Part A\n",
    "print \"Part A time: \" + str(time.clock()) + ' sec'"
   ]
  }
 ],
 "metadata": {
  "kernelspec": {
   "display_name": "Python 2",
   "language": "python",
   "name": "python2"
  },
  "language_info": {
   "codemirror_mode": {
    "name": "ipython",
    "version": 2
   },
   "file_extension": ".py",
   "mimetype": "text/x-python",
   "name": "python",
   "nbconvert_exporter": "python",
   "pygments_lexer": "ipython2",
   "version": "2.7.13"
  }
 },
 "nbformat": 4,
 "nbformat_minor": 2
}
